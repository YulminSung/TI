{
 "cells": [
  {
   "cell_type": "markdown",
   "id": "77a0e827-bfa1-4ca1-80b2-307dca23931a",
   "metadata": {},
   "source": [
    "# Pandas Data Viewing\n",
    "https://3months.tistory.com/292"
   ]
  },
  {
   "cell_type": "code",
   "execution_count": 6,
   "id": "f0e8349e-59b1-4e6e-bf9b-fd8773e42bca",
   "metadata": {},
   "outputs": [
    {
     "name": "stdout",
     "output_type": "stream",
     "text": [
      "                   A         B         C         D\n",
      "2023-01-01  0.207644  0.499216  0.849756 -0.517725\n",
      "2023-01-02 -1.581086 -0.718013  0.169183 -0.373700\n",
      "2023-01-03  0.565877 -0.442898 -1.051488 -1.123515\n",
      "2023-01-04  0.169621  0.341821  0.139733  0.513013\n",
      "2023-01-05 -0.902647 -0.905398  0.058214  1.043567\n",
      "2023-01-06  1.346534  0.481297 -0.258618  0.514701\n",
      "                   A         B         C         D\n",
      "2023-01-01  0.207644  0.499216  0.849756 -0.517725\n",
      "2023-01-02 -1.581086 -0.718013  0.169183 -0.373700\n",
      "                   A         B         C         D\n",
      "2023-01-04  0.169621  0.341821  0.139733  0.513013\n",
      "2023-01-05 -0.902647 -0.905398  0.058214  1.043567\n",
      "2023-01-06  1.346534  0.481297 -0.258618  0.514701\n"
     ]
    }
   ],
   "source": [
    "# Create DataFrame\n",
    "import pandas as pd\n",
    "import numpy as np\n",
    "\n",
    "dates = pd.date_range('20230101', periods=6)                                  # 20230101로 시작하는 datetimeindex 생성\n",
    "df = pd.DataFrame(np.random.randn(6, 4), index=dates, columns=list('ABCD'))   # 임의의 숫자 데이터 가지는 dataframe 생성\n",
    "\n",
    "print(df)\n",
    "print(df.head(2))\n",
    "print(df.tail(3))"
   ]
  },
  {
   "cell_type": "code",
   "execution_count": 8,
   "id": "039cda48-fccc-45eb-b8f4-29ebe823ae6f",
   "metadata": {},
   "outputs": [
    {
     "name": "stdout",
     "output_type": "stream",
     "text": [
      "DatetimeIndex(['2023-01-01', '2023-01-02', '2023-01-03', '2023-01-04',\n",
      "               '2023-01-05', '2023-01-06'],\n",
      "              dtype='datetime64[ns]', freq='D')\n",
      "Index(['A', 'B', 'C', 'D'], dtype='object')\n"
     ]
    }
   ],
   "source": [
    "print(df.index)\n",
    "print(df.columns)"
   ]
  },
  {
   "cell_type": "code",
   "execution_count": 10,
   "id": "63ad37a1-6fe6-4eb4-b21a-47703961d3b3",
   "metadata": {},
   "outputs": [
    {
     "name": "stdout",
     "output_type": "stream",
     "text": [
      "[[ 0.20764369  0.49921593  0.84975637 -0.51772543]\n",
      " [-1.5810857  -0.71801287  0.16918257 -0.37369998]\n",
      " [ 0.56587735 -0.44289821 -1.05148833 -1.1235155 ]\n",
      " [ 0.16962143  0.34182063  0.13973339  0.51301297]\n",
      " [-0.90264718 -0.90539807  0.05821411  1.04356659]\n",
      " [ 1.34653386  0.48129746 -0.25861835  0.51470058]]\n"
     ]
    }
   ],
   "source": [
    "# Numpy array - total array에 대해 하나의 dtype(자료형) 가짐\n",
    "print(df.to_numpy())"
   ]
  },
  {
   "cell_type": "code",
   "execution_count": 16,
   "id": "698429f9-7557-4fb3-9d2a-aa9f168bc2df",
   "metadata": {},
   "outputs": [
    {
     "name": "stdout",
     "output_type": "stream",
     "text": [
      "              A         B         C         D\n",
      "count  6.000000  6.000000  6.000000  6.000000\n",
      "mean  -0.032343 -0.123996 -0.015537  0.009390\n",
      "std    1.050103  0.638264  0.623648  0.810750\n",
      "min   -1.581086 -0.905398 -1.051488 -1.123515\n",
      "25%   -0.634580 -0.649234 -0.179410 -0.481719\n",
      "50%    0.188633 -0.050539  0.098974  0.069656\n",
      "75%    0.476319  0.446428  0.161820  0.514279\n",
      "max    1.346534  0.499216  0.849756  1.043567\n"
     ]
    }
   ],
   "source": [
    "print(df.describe())    # 데이터에 대한 통계적 요"
   ]
  },
  {
   "cell_type": "code",
   "execution_count": 19,
   "id": "f15c6fa4-e5eb-4dbe-a938-f867dbf48911",
   "metadata": {},
   "outputs": [
    {
     "name": "stdout",
     "output_type": "stream",
     "text": [
      "   2023-01-01  2023-01-02  2023-01-03  2023-01-04  2023-01-05  2023-01-06\n",
      "A    0.207644   -1.581086    0.565877    0.169621   -0.902647    1.346534\n",
      "B    0.499216   -0.718013   -0.442898    0.341821   -0.905398    0.481297\n",
      "C    0.849756    0.169183   -1.051488    0.139733    0.058214   -0.258618\n",
      "D   -0.517725   -0.373700   -1.123515    0.513013    1.043567    0.514701\n"
     ]
    }
   ],
   "source": [
    "print(df.T)   # dataframe의 행과 열을 교환(transpose)"
   ]
  },
  {
   "cell_type": "code",
   "execution_count": 25,
   "id": "f82c1d46-4f95-4c09-87f0-8b05f9de1f3a",
   "metadata": {},
   "outputs": [
    {
     "name": "stdout",
     "output_type": "stream",
     "text": [
      "                   A         B         C         D\n",
      "2023-01-06  1.346534  0.481297 -0.258618  0.514701\n",
      "2023-01-05 -0.902647 -0.905398  0.058214  1.043567\n",
      "2023-01-04  0.169621  0.341821  0.139733  0.513013\n",
      "2023-01-03  0.565877 -0.442898 -1.051488 -1.123515\n",
      "2023-01-02 -1.581086 -0.718013  0.169183 -0.373700\n",
      "2023-01-01  0.207644  0.499216  0.849756 -0.517725\n"
     ]
    }
   ],
   "source": [
    "print(df.sort_index(axis=0, ascending=False))    # 축 정렬"
   ]
  },
  {
   "cell_type": "code",
   "execution_count": 26,
   "id": "2b788659-05f4-424b-b4af-709efcb6cd61",
   "metadata": {},
   "outputs": [
    {
     "name": "stdout",
     "output_type": "stream",
     "text": [
      "                   A         B         C         D\n",
      "2023-01-05 -0.902647 -0.905398  0.058214  1.043567\n",
      "2023-01-02 -1.581086 -0.718013  0.169183 -0.373700\n",
      "2023-01-03  0.565877 -0.442898 -1.051488 -1.123515\n",
      "2023-01-04  0.169621  0.341821  0.139733  0.513013\n",
      "2023-01-06  1.346534  0.481297 -0.258618  0.514701\n",
      "2023-01-01  0.207644  0.499216  0.849756 -0.517725\n"
     ]
    }
   ],
   "source": [
    "print(df.sort_values(by='B'))"
   ]
  },
  {
   "cell_type": "markdown",
   "id": "3842d5ae-3ee1-4f51-9b38-c7649109965f",
   "metadata": {},
   "source": [
    "## Data Selection"
   ]
  },
  {
   "cell_type": "code",
   "execution_count": 31,
   "id": "84c3fecd-9aa7-423e-8458-e1965c357828",
   "metadata": {},
   "outputs": [
    {
     "name": "stdout",
     "output_type": "stream",
     "text": [
      "2023-01-01    0.207644\n",
      "2023-01-02   -1.581086\n",
      "2023-01-03    0.565877\n",
      "2023-01-04    0.169621\n",
      "2023-01-05   -0.902647\n",
      "2023-01-06    1.346534\n",
      "Freq: D, Name: A, dtype: float64\n",
      "\n",
      "<class 'pandas.core.series.Series'>\n"
     ]
    }
   ],
   "source": [
    "# 열 선택하기\n",
    "print(df['A'])\n",
    "print()\n",
    "print(type(df['A']))"
   ]
  },
  {
   "cell_type": "code",
   "execution_count": 33,
   "id": "1e61cdc5-58fc-45a5-8080-5af8eee5f5ad",
   "metadata": {},
   "outputs": [
    {
     "name": "stdout",
     "output_type": "stream",
     "text": [
      "                   A         B         C         D\n",
      "2023-01-01  0.207644  0.499216  0.849756 -0.517725\n",
      "2023-01-02 -1.581086 -0.718013  0.169183 -0.373700\n",
      "2023-01-03  0.565877 -0.442898 -1.051488 -1.123515\n",
      "\n",
      "                   A         B         C         D\n",
      "2023-01-02 -1.581086 -0.718013  0.169183 -0.373700\n",
      "2023-01-03  0.565877 -0.442898 -1.051488 -1.123515\n",
      "2023-01-04  0.169621  0.341821  0.139733  0.513013\n"
     ]
    }
   ],
   "source": [
    "# 행 선택하기\n",
    "print(df[0:3])\n",
    "print()\n",
    "print(df['20230102':'20230104'])"
   ]
  },
  {
   "cell_type": "code",
   "execution_count": 38,
   "id": "5b594073-7cd8-4fcd-82a8-34ddcca847da",
   "metadata": {
    "scrolled": true
   },
   "outputs": [
    {
     "name": "stdout",
     "output_type": "stream",
     "text": [
      "A    0.207644\n",
      "B    0.499216\n",
      "C    0.849756\n",
      "D   -0.517725\n",
      "Name: 2023-01-01 00:00:00, dtype: float64\n",
      "\n",
      "                   A         B\n",
      "2023-01-01  0.207644  0.499216\n",
      "2023-01-02 -1.581086 -0.718013\n",
      "2023-01-03  0.565877 -0.442898\n",
      "2023-01-04  0.169621  0.341821\n",
      "2023-01-05 -0.902647 -0.905398\n",
      "2023-01-06  1.346534  0.481297\n",
      "\n",
      "                   A         B\n",
      "2023-01-02 -1.581086 -0.718013\n",
      "2023-01-03  0.565877 -0.442898\n",
      "2023-01-04  0.169621  0.341821\n",
      "\n",
      "A   -1.581086\n",
      "B   -0.718013\n",
      "Name: 2023-01-02 00:00:00, dtype: float64\n",
      "\n",
      "A    0.207644\n",
      "Name: 2023-01-01 00:00:00, dtype: float64\n"
     ]
    }
   ],
   "source": [
    "# 레이블로 선택하기\n",
    "print(df.loc[dates[0]])\n",
    "print()\n",
    "print(df.loc[:, ['A', 'B']])\n",
    "print()\n",
    "print(df.loc['20230102':'20230104', ['A', 'B']])\n",
    "print()\n",
    "print(df.loc['20230102', ['A', 'B']])\n",
    "print()\n",
    "print(df.loc[dates[0], ['A']])"
   ]
  },
  {
   "cell_type": "code",
   "execution_count": 42,
   "id": "534a2eba-9a3e-4b19-b3b7-4b545251f692",
   "metadata": {
    "scrolled": true
   },
   "outputs": [
    {
     "name": "stdout",
     "output_type": "stream",
     "text": [
      "A    0.169621\n",
      "B    0.341821\n",
      "C    0.139733\n",
      "D    0.513013\n",
      "Name: 2023-01-04 00:00:00, dtype: float64\n",
      "\n",
      "                   A         B\n",
      "2023-01-04  0.169621  0.341821\n",
      "2023-01-05 -0.902647 -0.905398\n",
      "\n",
      "                   A         C\n",
      "2023-01-02 -1.581086  0.169183\n",
      "2023-01-03  0.565877 -1.051488\n",
      "2023-01-05 -0.902647  0.058214\n",
      "\n",
      "                   A         B         C         D\n",
      "2023-01-02 -1.581086 -0.718013  0.169183 -0.373700\n",
      "2023-01-03  0.565877 -0.442898 -1.051488 -1.123515\n"
     ]
    }
   ],
   "source": [
    "# 위치로 선택하기\n",
    "print(df.iloc[3])\n",
    "print()\n",
    "print(df.iloc[3:5, 0:2])\n",
    "print()\n",
    "print(df.iloc[[1, 2, 4], [0, 2]])\n",
    "print()\n",
    "print(df.iloc[1:3, :])\n",
    "pr"
   ]
  },
  {
   "cell_type": "code",
   "execution_count": null,
   "id": "6c8d5b61-178e-4333-86ae-8df9c09dd37e",
   "metadata": {},
   "outputs": [],
   "source": []
  },
  {
   "cell_type": "code",
   "execution_count": null,
   "id": "d119f012-09fb-4be4-851c-fe4e035d1ac5",
   "metadata": {},
   "outputs": [],
   "source": []
  }
 ],
 "metadata": {
  "kernelspec": {
   "display_name": "Python 3 (ipykernel)",
   "language": "python",
   "name": "python3"
  },
  "language_info": {
   "codemirror_mode": {
    "name": "ipython",
    "version": 3
   },
   "file_extension": ".py",
   "mimetype": "text/x-python",
   "name": "python",
   "nbconvert_exporter": "python",
   "pygments_lexer": "ipython3",
   "version": "3.9.13"
  }
 },
 "nbformat": 4,
 "nbformat_minor": 5
}
